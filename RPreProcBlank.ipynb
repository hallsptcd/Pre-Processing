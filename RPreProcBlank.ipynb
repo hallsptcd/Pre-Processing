{
 "cells": [
  {
   "cell_type": "markdown",
   "id": "8ec759e1",
   "metadata": {},
   "source": [
    "**R Preprocessing Notebook**"
   ]
  },
  {
   "cell_type": "markdown",
   "id": "552209c4",
   "metadata": {},
   "source": [
    "Open File"
   ]
  },
  {
   "cell_type": "code",
   "execution_count": null,
   "id": "91ae6536",
   "metadata": {},
   "outputs": [],
   "source": [
    "if (!require('readr')) install.packages('readr')\n",
    "library(readr)\n",
    "file_name = \"\"\n",
    "df <- readr::read_csv(file_name)"
   ]
  },
  {
   "cell_type": "code",
   "execution_count": null,
   "id": "46a6da37",
   "metadata": {},
   "outputs": [],
   "source": [
    "ncol(df)\n",
    "nrow(df)"
   ]
  },
  {
   "cell_type": "code",
   "execution_count": null,
   "id": "2168482d",
   "metadata": {},
   "outputs": [],
   "source": [
    "dim(df)"
   ]
  },
  {
   "cell_type": "code",
   "execution_count": null,
   "id": "4fb5ebf0",
   "metadata": {},
   "outputs": [],
   "source": [
    "names(df)"
   ]
  },
  {
   "cell_type": "code",
   "execution_count": null,
   "id": "0f7a0c3e",
   "metadata": {},
   "outputs": [],
   "source": [
    "str(df)"
   ]
  },
  {
   "cell_type": "code",
   "execution_count": null,
   "id": "6283102b",
   "metadata": {},
   "outputs": [],
   "source": [
    "summary(df)"
   ]
  },
  {
   "cell_type": "code",
   "execution_count": null,
   "id": "1d26d581",
   "metadata": {},
   "outputs": [],
   "source": [
    "head(df)\n",
    "tail(df)"
   ]
  },
  {
   "cell_type": "code",
   "execution_count": null,
   "id": "331cdf4e",
   "metadata": {},
   "outputs": [],
   "source": [
    "problems(df)"
   ]
  },
  {
   "cell_type": "markdown",
   "id": "89a7fafa",
   "metadata": {},
   "source": [
    "Summary Table for Column"
   ]
  },
  {
   "cell_type": "code",
   "execution_count": null,
   "id": "50c2cf79",
   "metadata": {},
   "outputs": [],
   "source": [
    "summarytable <- table(df$column_name)\n",
    "summarytable"
   ]
  },
  {
   "cell_type": "markdown",
   "id": "8c5b3f10",
   "metadata": {},
   "source": [
    "Count Missing Values"
   ]
  },
  {
   "cell_type": "code",
   "execution_count": null,
   "id": "7f9dc387",
   "metadata": {},
   "outputs": [],
   "source": [
    "allmissing <- is.na(df)\n",
    "counts <- colSums(allmissing)\n",
    "counts[counts>0]"
   ]
  },
  {
   "cell_type": "code",
   "execution_count": null,
   "id": "740a6473",
   "metadata": {},
   "outputs": [],
   "source": [
    "any(is.na(df$column_name))\n",
    "sum(is.na(df$column_name))"
   ]
  },
  {
   "cell_type": "markdown",
   "id": "f6de3da7",
   "metadata": {},
   "source": [
    "Check Data Types"
   ]
  },
  {
   "cell_type": "code",
   "execution_count": null,
   "id": "2ebfc52d",
   "metadata": {},
   "outputs": [],
   "source": [
    "class(column) #e.g. numeric\n",
    "typeof(column) #e.g. double"
   ]
  },
  {
   "cell_type": "markdown",
   "id": "e5210d76",
   "metadata": {},
   "source": [
    "Change Data Types"
   ]
  },
  {
   "cell_type": "code",
   "execution_count": null,
   "id": "611a29eb",
   "metadata": {},
   "outputs": [],
   "source": [
    "# Create a list with the indices of the two date type columns\n",
    "date_indices <- c(3,8)\n",
    "\n",
    "#A for loop which changes to the relevant features to date type\n",
    "for (i in date_indices) {\n",
    "    df[[i]] <- as.Date(df[[i]])\n",
    "}\n",
    "\n",
    "head(df)"
   ]
  },
  {
   "cell_type": "markdown",
   "id": "2d07607d",
   "metadata": {},
   "source": [
    "Add New Column"
   ]
  },
  {
   "cell_type": "code",
   "execution_count": null,
   "id": "828688d4",
   "metadata": {},
   "outputs": [],
   "source": [
    "df[ , 'column_name'] <- NA"
   ]
  },
  {
   "cell_type": "markdown",
   "id": "8d9cd0ef",
   "metadata": {},
   "source": [
    "Count Values in Column"
   ]
  },
  {
   "cell_type": "code",
   "execution_count": null,
   "id": "d559b3a5",
   "metadata": {},
   "outputs": [],
   "source": [
    "sum(df$column_name == 'value')"
   ]
  },
  {
   "cell_type": "code",
   "execution_count": null,
   "id": "60a1fda4",
   "metadata": {},
   "outputs": [],
   "source": [
    "length(which(df$column_name == \"value\"))"
   ]
  },
  {
   "cell_type": "markdown",
   "id": "08d8270d",
   "metadata": {},
   "source": [
    "Write DF to a CSV File"
   ]
  },
  {
   "cell_type": "code",
   "execution_count": null,
   "id": "d3dc4b59",
   "metadata": {},
   "outputs": [],
   "source": [
    "write.csv(df, \"df.csv\", row.names = FALSE)"
   ]
  }
 ],
 "metadata": {
  "kernelspec": {
   "display_name": "R",
   "language": "R",
   "name": "ir"
  },
  "language_info": {
   "codemirror_mode": "r",
   "file_extension": ".r",
   "mimetype": "text/x-r-source",
   "name": "R",
   "pygments_lexer": "r",
   "version": "4.1.1"
  }
 },
 "nbformat": 4,
 "nbformat_minor": 5
}
