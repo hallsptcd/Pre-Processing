{
 "cells": [
  {
   "cell_type": "markdown",
   "id": "a2ce8ea0",
   "metadata": {},
   "source": [
    "# Python Pre-Processing <a class=\"anchor\" id=\"top\"></a>"
   ]
  },
  {
   "cell_type": "code",
   "execution_count": null,
   "id": "4dbd65e5",
   "metadata": {},
   "outputs": [],
   "source": [
    "import numpy as np\n",
    "import pandas as pd\n",
    "import matplotlib.pyplot as plt\n",
    "import seaborn as sns\n",
    "from datetime import datetime\n",
    "from sklearn.preprocessing import StandardScaler\n",
    "import os"
   ]
  },
  {
   "cell_type": "code",
   "execution_count": null,
   "id": "004c2663",
   "metadata": {},
   "outputs": [],
   "source": [
    "df = pd.read_csv(\"...\", parse_dates=\"Date\", index_col=\"Date\").dropna()"
   ]
  },
  {
   "cell_type": "code",
   "execution_count": null,
   "id": "bca80007",
   "metadata": {},
   "outputs": [],
   "source": [
    "df.shape"
   ]
  },
  {
   "cell_type": "code",
   "execution_count": null,
   "id": "2e2f986a",
   "metadata": {},
   "outputs": [],
   "source": [
    "df.describe()"
   ]
  },
  {
   "cell_type": "code",
   "execution_count": null,
   "id": "298c62a9",
   "metadata": {},
   "outputs": [],
   "source": [
    "pd.set_option('display.max_columns', None)\n",
    "df.head()"
   ]
  },
  {
   "cell_type": "code",
   "execution_count": null,
   "id": "5b59c863",
   "metadata": {},
   "outputs": [],
   "source": [
    "df.info()"
   ]
  },
  {
   "cell_type": "code",
   "execution_count": null,
   "id": "bb26a62f",
   "metadata": {},
   "outputs": [],
   "source": [
    "df.isnull().sum()"
   ]
  },
  {
   "cell_type": "code",
   "execution_count": null,
   "id": "2c146926",
   "metadata": {},
   "outputs": [],
   "source": [
    "df.nunique()"
   ]
  },
  {
   "cell_type": "code",
   "execution_count": null,
   "id": "77d6660c",
   "metadata": {},
   "outputs": [],
   "source": [
    "df.plot()"
   ]
  },
  {
   "cell_type": "code",
   "execution_count": null,
   "id": "f1adf6f1",
   "metadata": {},
   "outputs": [],
   "source": [
    "df['Column'].mean()"
   ]
  },
  {
   "cell_type": "code",
   "execution_count": null,
   "id": "473c11d3",
   "metadata": {},
   "outputs": [],
   "source": [
    "df['Column'].valuecounts()"
   ]
  }
 ],
 "metadata": {
  "kernelspec": {
   "display_name": "Python 3 (ipykernel)",
   "language": "python",
   "name": "python3"
  },
  "language_info": {
   "codemirror_mode": {
    "name": "ipython",
    "version": 3
   },
   "file_extension": ".py",
   "mimetype": "text/x-python",
   "name": "python",
   "nbconvert_exporter": "python",
   "pygments_lexer": "ipython3",
   "version": "3.9.16"
  }
 },
 "nbformat": 4,
 "nbformat_minor": 5
}
